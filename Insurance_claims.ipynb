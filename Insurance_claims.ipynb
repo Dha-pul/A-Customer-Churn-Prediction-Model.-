{
 "cells": [
  {
   "cell_type": "code",
   "execution_count": 2,
   "id": "c48ae0f8-e674-48f8-9451-1144f9ef4b6f",
   "metadata": {},
   "outputs": [
    {
     "name": "stdout",
     "output_type": "stream",
     "text": [
      "   months_as_customer  age  policy_number policy_bind_date policy_state  \\\n",
      "0                 328   48         521585       2014-10-17           OH   \n",
      "1                 228   42         342868       2006-06-27           IN   \n",
      "2                 134   29         687698       2000-09-06           OH   \n",
      "3                 256   41         227811       1990-05-25           IL   \n",
      "4                 228   44         367455       2014-06-06           IL   \n",
      "\n",
      "  policy_csl  policy_deductable  policy_annual_premium  umbrella_limit  \\\n",
      "0    250/500               1000                1406.91               0   \n",
      "1    250/500               2000                1197.22         5000000   \n",
      "2    100/300               2000                1413.14         5000000   \n",
      "3    250/500               2000                1415.74         6000000   \n",
      "4   500/1000               1000                1583.91         6000000   \n",
      "\n",
      "   insured_zip  ... police_report_available total_claim_amount injury_claim  \\\n",
      "0       466132  ...                     YES              71610         6510   \n",
      "1       468176  ...                       ?               5070          780   \n",
      "2       430632  ...                      NO              34650         7700   \n",
      "3       608117  ...                      NO              63400         6340   \n",
      "4       610706  ...                      NO               6500         1300   \n",
      "\n",
      "  property_claim vehicle_claim  auto_make  auto_model auto_year  \\\n",
      "0          13020         52080       Saab         92x      2004   \n",
      "1            780          3510   Mercedes        E400      2007   \n",
      "2           3850         23100      Dodge         RAM      2007   \n",
      "3           6340         50720  Chevrolet       Tahoe      2014   \n",
      "4            650          4550     Accura         RSX      2009   \n",
      "\n",
      "  fraud_reported _c39  \n",
      "0              Y  NaN  \n",
      "1              Y  NaN  \n",
      "2              N  NaN  \n",
      "3              Y  NaN  \n",
      "4              N  NaN  \n",
      "\n",
      "[5 rows x 40 columns]\n",
      "<class 'pandas.core.frame.DataFrame'>\n",
      "RangeIndex: 1000 entries, 0 to 999\n",
      "Data columns (total 40 columns):\n",
      " #   Column                       Non-Null Count  Dtype  \n",
      "---  ------                       --------------  -----  \n",
      " 0   months_as_customer           1000 non-null   int64  \n",
      " 1   age                          1000 non-null   int64  \n",
      " 2   policy_number                1000 non-null   int64  \n",
      " 3   policy_bind_date             1000 non-null   object \n",
      " 4   policy_state                 1000 non-null   object \n",
      " 5   policy_csl                   1000 non-null   object \n",
      " 6   policy_deductable            1000 non-null   int64  \n",
      " 7   policy_annual_premium        1000 non-null   float64\n",
      " 8   umbrella_limit               1000 non-null   int64  \n",
      " 9   insured_zip                  1000 non-null   int64  \n",
      " 10  insured_sex                  1000 non-null   object \n",
      " 11  insured_education_level      1000 non-null   object \n",
      " 12  insured_occupation           1000 non-null   object \n",
      " 13  insured_hobbies              1000 non-null   object \n",
      " 14  insured_relationship         1000 non-null   object \n",
      " 15  capital-gains                1000 non-null   int64  \n",
      " 16  capital-loss                 1000 non-null   int64  \n",
      " 17  incident_date                1000 non-null   object \n",
      " 18  incident_type                1000 non-null   object \n",
      " 19  collision_type               1000 non-null   object \n",
      " 20  incident_severity            1000 non-null   object \n",
      " 21  authorities_contacted        909 non-null    object \n",
      " 22  incident_state               1000 non-null   object \n",
      " 23  incident_city                1000 non-null   object \n",
      " 24  incident_location            1000 non-null   object \n",
      " 25  incident_hour_of_the_day     1000 non-null   int64  \n",
      " 26  number_of_vehicles_involved  1000 non-null   int64  \n",
      " 27  property_damage              1000 non-null   object \n",
      " 28  bodily_injuries              1000 non-null   int64  \n",
      " 29  witnesses                    1000 non-null   int64  \n",
      " 30  police_report_available      1000 non-null   object \n",
      " 31  total_claim_amount           1000 non-null   int64  \n",
      " 32  injury_claim                 1000 non-null   int64  \n",
      " 33  property_claim               1000 non-null   int64  \n",
      " 34  vehicle_claim                1000 non-null   int64  \n",
      " 35  auto_make                    1000 non-null   object \n",
      " 36  auto_model                   1000 non-null   object \n",
      " 37  auto_year                    1000 non-null   int64  \n",
      " 38  fraud_reported               1000 non-null   object \n",
      " 39  _c39                         0 non-null      float64\n",
      "dtypes: float64(2), int64(17), object(21)\n",
      "memory usage: 312.6+ KB\n",
      "None\n",
      "Missing Data:\n",
      " months_as_customer                0\n",
      "age                               0\n",
      "policy_number                     0\n",
      "policy_bind_date                  0\n",
      "policy_state                      0\n",
      "policy_csl                        0\n",
      "policy_deductable                 0\n",
      "policy_annual_premium             0\n",
      "umbrella_limit                    0\n",
      "insured_zip                       0\n",
      "insured_sex                       0\n",
      "insured_education_level           0\n",
      "insured_occupation                0\n",
      "insured_hobbies                   0\n",
      "insured_relationship              0\n",
      "capital-gains                     0\n",
      "capital-loss                      0\n",
      "incident_date                     0\n",
      "incident_type                     0\n",
      "collision_type                    0\n",
      "incident_severity                 0\n",
      "authorities_contacted            91\n",
      "incident_state                    0\n",
      "incident_city                     0\n",
      "incident_location                 0\n",
      "incident_hour_of_the_day          0\n",
      "number_of_vehicles_involved       0\n",
      "property_damage                   0\n",
      "bodily_injuries                   0\n",
      "witnesses                         0\n",
      "police_report_available           0\n",
      "total_claim_amount                0\n",
      "injury_claim                      0\n",
      "property_claim                    0\n",
      "vehicle_claim                     0\n",
      "auto_make                         0\n",
      "auto_model                        0\n",
      "auto_year                         0\n",
      "fraud_reported                    0\n",
      "_c39                           1000\n",
      "dtype: int64\n"
     ]
    }
   ],
   "source": [
    "\n",
    "import pandas as pd\n",
    "\n",
    "# Load the dataset\n",
    "claims_df = pd.read_csv(\"insurance_claims.csv\")\n",
    "\n",
    "# Display first few rows of the dataset\n",
    "print(claims_df.head())\n",
    "\n",
    "# Get basic information about data types and missing values\n",
    "print(claims_df.info())\n",
    "\n",
    "# Check for missing values\n",
    "missing_data = claims_df.isnull().sum()\n",
    "print(\"Missing Data:\\n\", missing_data)\n"
   ]
  },
  {
   "cell_type": "code",
   "execution_count": 3,
   "id": "b9e6184a-52f6-4734-aa8e-6dc28d7b022b",
   "metadata": {},
   "outputs": [
    {
     "name": "stdout",
     "output_type": "stream",
     "text": [
      "Fraud Detection Rate: 24.7%\n"
     ]
    }
   ],
   "source": [
    "# Calculate Fraud Detection Rate\n",
    "fraud_detection_rate = (claims_df['fraud_reported'].value_counts(normalize=True)['Y']) * 100\n",
    "print(f\"Fraud Detection Rate: {fraud_detection_rate}%\")\n"
   ]
  },
  {
   "cell_type": "code",
   "execution_count": 4,
   "id": "0f57e08a-6b2b-40df-89a5-a739140d61d8",
   "metadata": {},
   "outputs": [
    {
     "name": "stdout",
     "output_type": "stream",
     "text": [
      "Average Claim Amount: 52761.94\n"
     ]
    }
   ],
   "source": [
    "# Calculate average claim amount\n",
    "average_claim_amount = claims_df['total_claim_amount'].mean()\n",
    "print(f\"Average Claim Amount: {average_claim_amount}\")\n"
   ]
  },
  {
   "cell_type": "code",
   "execution_count": 5,
   "id": "e5cc87a0-f25b-41e0-bae6-ffa8afd4b96b",
   "metadata": {},
   "outputs": [
    {
     "name": "stdout",
     "output_type": "stream",
     "text": [
      "Average Claim Frequency per Customer: 1.0\n"
     ]
    }
   ],
   "source": [
    "# Calculate the number of claims per customer (based on policy_number)\n",
    "claim_frequency = claims_df.groupby('policy_number').size().mean()\n",
    "print(f\"Average Claim Frequency per Customer: {claim_frequency}\")\n"
   ]
  },
  {
   "cell_type": "code",
   "execution_count": 6,
   "id": "17cd556c-6813-4168-895b-01a55543c199",
   "metadata": {},
   "outputs": [
    {
     "name": "stdout",
     "output_type": "stream",
     "text": [
      "Claim Approval Rate: 75.3%\n",
      "Claim Denial Rate: 24.7%\n"
     ]
    }
   ],
   "source": [
    "# Calculate Claim Approval and Denial Rate\n",
    "claims_approved = claims_df[claims_df['fraud_reported'] == 'N'].shape[0]\n",
    "claims_denied = claims_df[claims_df['fraud_reported'] == 'Y'].shape[0]\n",
    "approval_rate = (claims_approved / (claims_approved + claims_denied)) * 100\n",
    "denial_rate = (claims_denied / (claims_approved + claims_denied)) * 100\n",
    "\n",
    "print(f\"Claim Approval Rate: {approval_rate}%\")\n",
    "print(f\"Claim Denial Rate: {denial_rate}%\")\n",
    "\n"
   ]
  },
  {
   "cell_type": "code",
   "execution_count": 8,
   "id": "c1ae3d79-dc74-498a-b261-3ee7da01478d",
   "metadata": {},
   "outputs": [
    {
     "name": "stdout",
     "output_type": "stream",
     "text": [
      "Average Time to Report a Claim: 5469.219 days\n"
     ]
    }
   ],
   "source": [
    "# Example: Adding a 'claim_report_date' based on some criteria (e.g., a random date)\n",
    "import numpy as np\n",
    "claims_df['claim_report_date'] = pd.to_datetime(\n",
    "    np.random.choice(pd.date_range('2010-01-01', '2023-12-31', freq='D'), size=len(claims_df))\n",
    ")\n",
    "\n",
    "# Now you can calculate the time to report the claim\n",
    "claims_df['time_to_report'] = (claims_df['claim_report_date'] - claims_df['policy_bind_date']).dt.days\n",
    "average_time_to_report = claims_df['time_to_report'].mean()\n",
    "print(f\"Average Time to Report a Claim: {average_time_to_report} days\")\n"
   ]
  },
  {
   "cell_type": "code",
   "execution_count": 9,
   "id": "d59dea0a-f6e7-40a6-8903-578597d09ca6",
   "metadata": {},
   "outputs": [
    {
     "name": "stdout",
     "output_type": "stream",
     "text": [
      "Average Time to Report a Claim: 5469.219 days\n"
     ]
    }
   ],
   "source": [
    "# Assuming there's a 'claim_report_date' column (for demonstration purposes)\n",
    "claims_df['policy_bind_date'] = pd.to_datetime(claims_df['policy_bind_date'])\n",
    "claims_df['claim_report_date'] = pd.to_datetime(claims_df['claim_report_date'])  # This would need to exist in your dataset\n",
    "\n",
    "# Calculate time to report a claim\n",
    "claims_df['time_to_report'] = (claims_df['claim_report_date'] - claims_df['policy_bind_date']).dt.days\n",
    "average_time_to_report = claims_df['time_to_report'].mean()\n",
    "print(f\"Average Time to Report a Claim: {average_time_to_report} days\")\n"
   ]
  },
  {
   "cell_type": "code",
   "execution_count": 10,
   "id": "7c86fe4f-36a4-4371-8078-f431dba0a41a",
   "metadata": {},
   "outputs": [
    {
     "name": "stdout",
     "output_type": "stream",
     "text": [
      "Fraudulent Claims Loss Ratio: 1185.4940378953097%\n"
     ]
    }
   ],
   "source": [
    "# Assuming 'policy_annual_premium' is the total premium amount\n",
    "fraudulent_claims_total_loss = claims_df[claims_df['fraud_reported'] == 'Y']['total_claim_amount'].sum()\n",
    "total_premiums_collected = claims_df['policy_annual_premium'].sum()\n",
    "\n",
    "fraudulent_claim_loss_ratio = (fraudulent_claims_total_loss / total_premiums_collected) * 100\n",
    "print(f\"Fraudulent Claims Loss Ratio: {fraudulent_claim_loss_ratio}%\")\n"
   ]
  },
  {
   "cell_type": "code",
   "execution_count": 12,
   "id": "1b6296d4-9b2c-48ac-be33-64e5884f172f",
   "metadata": {},
   "outputs": [
    {
     "name": "stdout",
     "output_type": "stream",
     "text": [
      "Number of outliers in 'total_claim_amount': 1\n"
     ]
    }
   ],
   "source": [
    "# Count outliers\n",
    "outliers = claims_df[claims_df['total_claim_amount'] < lower_bound]\n",
    "outliers = pd.concat([outliers, claims_df[claims_df['total_claim_amount'] > upper_bound]])\n",
    "print(f\"Number of outliers in 'total_claim_amount': {len(outliers)}\")\n"
   ]
  },
  {
   "cell_type": "code",
   "execution_count": 14,
   "id": "0e7f2f03-2f38-48a1-9208-865bbe66826a",
   "metadata": {},
   "outputs": [
    {
     "name": "stdout",
     "output_type": "stream",
     "text": [
      "Number of outliers in 'total_claim_amount': 1\n"
     ]
    }
   ],
   "source": [
    "# Count outliers using the IQR method\n",
    "lower_bound = Q1 - 1.5 * IQR\n",
    "upper_bound = Q3 + 1.5 * IQR\n",
    "\n",
    "# Find outliers by selecting rows with values outside the bounds\n",
    "outliers = claims_df[claims_df['total_claim_amount'] < lower_bound]\n",
    "\n",
    "# Concatenate outliers above the upper bound\n",
    "outliers = pd.concat([outliers, claims_df[claims_df['total_claim_amount'] > upper_bound]])\n",
    "\n",
    "# Display the number of outliers\n",
    "print(f\"Number of outliers in 'total_claim_amount': {len(outliers)}\")\n"
   ]
  },
  {
   "cell_type": "code",
   "execution_count": 15,
   "id": "16308d24-94aa-412e-9d63-049e3eec7d84",
   "metadata": {},
   "outputs": [
    {
     "data": {
      "image/png": "[encoded data removed]",
      "text/plain": [
       "<Figure size 640x480 with 1 Axes>"
      ]
     },
     "metadata": {},
     "output_type": "display_data"
    }
   ],
   "source": [
    "import seaborn as sns\n",
    "import matplotlib.pyplot as plt\n",
    "\n",
    "sns.histplot(claims_df['total_claim_amount'], kde=True)\n",
    "plt.title(\"Distribution of Total Claim Amounts\")\n",
    "plt.xlabel(\"Claim Amount\")\n",
    "plt.ylabel(\"Frequency\")\n",
    "plt.show()\n"
   ]
  },
  {
   "cell_type": "code",
   "execution_count": 16,
   "id": "1c682395-2347-4df9-a1a1-02c38580560e",
   "metadata": {},
   "outputs": [
    {
     "data": {
      "image/png": "[encoded data removed]",
      "text/plain": [
       "<Figure size 640x480 with 1 Axes>"
      ]
     },
     "metadata": {},
     "output_type": "display_data"
    }
   ],
   "source": [
    "# Compare fraudulent vs non-fraudulent claims based on claim amount\n",
    "sns.boxplot(x='fraud_reported', y='total_claim_amount', data=claims_df)\n",
    "plt.title(\"Claim Amount Distribution for Fraudulent vs Non-Fraudulent Claims\")\n",
    "plt.show()\n"
   ]
  },
  {
   "cell_type": "code",
   "execution_count": 20,
   "id": "29e25adb-c89a-4556-8717-6fa70603e2b8",
   "metadata": {},
   "outputs": [],
   "source": [
    "from sklearn.model_selection import train_test_split\n",
    "from sklearn.linear_model import LogisticRegression\n",
    "from sklearn.metrics import classification_report, accuracy_score\n",
    "\n",
    "\n"
   ]
  },
  {
   "cell_type": "code",
   "execution_count": 21,
   "id": "2aea6f4d-0bc6-44e6-9c73-25eae67551b1",
   "metadata": {},
   "outputs": [
    {
     "name": "stdout",
     "output_type": "stream",
     "text": [
      "1000\n"
     ]
    }
   ],
   "source": [
    "# Check for missing values in the target variable\n",
    "print(claims_df[target].isnull().sum())"
   ]
  },
  {
   "cell_type": "code",
   "execution_count": 22,
   "id": "cd7dcf49-bcba-4d46-b542-3373486a97b3",
   "metadata": {},
   "outputs": [],
   "source": [
    "claims_df = claims_df.dropna(subset=[target])"
   ]
  },
  {
   "cell_type": "code",
   "execution_count": 24,
   "id": "2abbaec0-6b41-4255-bfaa-c7ea6a0b1299",
   "metadata": {},
   "outputs": [
    {
     "name": "stdout",
     "output_type": "stream",
     "text": [
      "Total rows in claims_df: 0\n",
      "Missing values in target variable: 0\n"
     ]
    }
   ],
   "source": [
    "print(\"Total rows in claims_df:\", claims_df.shape[0])\n",
    "print(\"Missing values in target variable:\", claims_df[target].isnull().sum())"
   ]
  },
  {
   "cell_type": "code",
   "execution_count": 25,
   "id": "55e7ae43-9aec-4218-82d6-d88ff482974d",
   "metadata": {},
   "outputs": [
    {
     "name": "stdout",
     "output_type": "stream",
     "text": [
      "No missing values in target variable.\n"
     ]
    }
   ],
   "source": [
    "if claims_df[target].isnull().sum() > 0:\n",
    "    claims_df = claims_df.dropna(subset=[target])\n",
    "    print(\"Rows after dropping NaNs in target:\", claims_df.shape[0])\n",
    "else:\n",
    "    print(\"No missing values in target variable.\")"
   ]
  },
  {
   "cell_type": "code",
   "execution_count": 26,
   "id": "96555c51-312b-4c7e-90a4-ac082c6f7ebb",
   "metadata": {},
   "outputs": [
    {
     "name": "stdout",
     "output_type": "stream",
     "text": [
      "Data is empty after filtering. Cannot proceed with train_test_split.\n"
     ]
    }
   ],
   "source": [
    "# Select features and target variable again\n",
    "X = claims_df[features]\n",
    "y = claims_df[target]\n",
    "\n",
    "# Check if X and y are not empty\n",
    "if X.shape[0] > 0 and y.shape[0] > 0:\n",
    "    X_train, X_test, y_train, y_test = train_test_split(X, y, test_size=0.3, random_state=42)\n",
    "else:\n",
    "    print(\"Data is empty after filtering. Cannot proceed with train_test_split.\")"
   ]
  },
  {
   "cell_type": "code",
   "execution_count": 29,
   "id": "6ba8336e-e71d-416b-807d-f36e7566d2b3",
   "metadata": {},
   "outputs": [
    {
     "name": "stdout",
     "output_type": "stream",
     "text": [
      "Data is empty after filtering. Cannot proceed with train_test_split.\n"
     ]
    }
   ],
   "source": [
    "# Define your features and target variable\n",
    "features = ['policy_csl', 'policy_deductable', 'policy_annual_premium', 'umbrella_limit', \n",
    "            'insured_zip', 'insured_sex', 'insured_education_level', 'insured_occupation', \n",
    "            'insured_hobbies', 'insured_relationship', 'capital-gains', 'capital-loss', \n",
    "            'incident_date', 'incident_type', 'collision_type', 'incident_severity', \n",
    "            'authorities_contacted', 'incident_state', 'incident_city', 'incident_location', \n",
    "            'incident_hour_of_the_day', 'number_of_vehicles_involved', 'property_damage', \n",
    "            'bodily_injuries', 'witnesses', 'police_report_available', 'total_claim_amount', \n",
    "            'injury_claim', 'property_claim', 'vehicle_claim', 'auto_make', 'auto_model', \n",
    "            'auto_year', 'fraud_reported', '_c39', 'claim_report_date', 'time_to_report']\n",
    "\n",
    "target = 'fraud_reported'  # Replace with your actual target variable name\n",
    "\n",
    "# Select features and target variable again\n",
    "X = claims_df[features]\n",
    "y = claims_df[target]  # Ensure you're using the correct target variable name\n",
    "\n",
    "# Check if X and y are not empty\n",
    "if X.shape[0] > 0 and y.shape[0] > 0:\n",
    "    X_train, X_test, y_train, y_test = train_test_split(X, y, test_size=0.3, random_state=42)\n",
    "else:\n",
    "    print(\"Data is empty after filtering. Cannot proceed with train_test_split.\")"
   ]
  },
  {
   "cell_type": "code",
   "execution_count": null,
   "id": "74fa93a2-b2bf-4611-b9ff-03b691a54e62",
   "metadata": {},
   "outputs": [],
   "source": []
  }
 ],
 "metadata": {
  "kernelspec": {
   "display_name": "Python 3 (ipykernel)",
   "language": "python",
   "name": "python3"
  },
  "language_info": {
   "codemirror_mode": {
    "name": "ipython",
    "version": 3
   },
   "file_extension": ".py",
   "mimetype": "text/x-python",
   "name": "python",
   "nbconvert_exporter": "python",
   "pygments_lexer": "ipython3",
   "version": "3.12.4"
  }
 },
 "nbformat": 4,
 "nbformat_minor": 5
}
